{
 "cells": [
  {
   "cell_type": "code",
   "execution_count": 154,
   "metadata": {},
   "outputs": [],
   "source": [
    "import numpy as np\n",
    "import pandas as pd\n",
    "import matplotlib.pyplot as plt\n",
    "%matplotlib inline\n",
    "import seaborn as sns\n",
    "import matplotlib.image as mpimg\n",
    "\n",
    "from sklearn.preprocessing import StandardScaler\n",
    "from sklearn.model_selection import train_test_split\n",
    "from sklearn.neighbors import KNeighborsClassifier\n",
    "from sklearn.metrics import classification_report,confusion_matrix\n",
    "from sklearn.ensemble import RandomForestClassifier\n",
    "from sklearn.naive_bayes import GaussianNB\n",
    "from sklearn.linear_model import LogisticRegression"
   ]
  },
  {
   "cell_type": "code",
   "execution_count": 137,
   "metadata": {},
   "outputs": [],
   "source": [
    "df=pd.read_csv(\"weatherAUS.csv\",parse_dates=['Date'])"
   ]
  },
  {
   "cell_type": "markdown",
   "metadata": {},
   "source": [
    "# rain in Australia\n",
    "### this data set contains wether praneters of differante days and locations in Australia, and the goal is to predict if it's going to rain the next day."
   ]
  },
  {
   "cell_type": "markdown",
   "metadata": {},
   "source": [
    "#   \n",
    "#   \n",
    "#   "
   ]
  },
  {
   "cell_type": "markdown",
   "metadata": {},
   "source": [
    "## know the data"
   ]
  },
  {
   "cell_type": "code",
   "execution_count": 138,
   "metadata": {},
   "outputs": [
    {
     "data": {
      "text/html": [
       "<div>\n",
       "<style scoped>\n",
       "    .dataframe tbody tr th:only-of-type {\n",
       "        vertical-align: middle;\n",
       "    }\n",
       "\n",
       "    .dataframe tbody tr th {\n",
       "        vertical-align: top;\n",
       "    }\n",
       "\n",
       "    .dataframe thead th {\n",
       "        text-align: right;\n",
       "    }\n",
       "</style>\n",
       "<table border=\"1\" class=\"dataframe\">\n",
       "  <thead>\n",
       "    <tr style=\"text-align: right;\">\n",
       "      <th></th>\n",
       "      <th>Date</th>\n",
       "      <th>Location</th>\n",
       "      <th>MinTemp</th>\n",
       "      <th>MaxTemp</th>\n",
       "      <th>Rainfall</th>\n",
       "      <th>Evaporation</th>\n",
       "      <th>Sunshine</th>\n",
       "      <th>WindGustDir</th>\n",
       "      <th>WindGustSpeed</th>\n",
       "      <th>WindDir9am</th>\n",
       "      <th>...</th>\n",
       "      <th>Humidity3pm</th>\n",
       "      <th>Pressure9am</th>\n",
       "      <th>Pressure3pm</th>\n",
       "      <th>Cloud9am</th>\n",
       "      <th>Cloud3pm</th>\n",
       "      <th>Temp9am</th>\n",
       "      <th>Temp3pm</th>\n",
       "      <th>RainToday</th>\n",
       "      <th>RISK_MM</th>\n",
       "      <th>RainTomorrow</th>\n",
       "    </tr>\n",
       "  </thead>\n",
       "  <tbody>\n",
       "    <tr>\n",
       "      <td>0</td>\n",
       "      <td>2008-12-01</td>\n",
       "      <td>Albury</td>\n",
       "      <td>13.4</td>\n",
       "      <td>22.9</td>\n",
       "      <td>0.6</td>\n",
       "      <td>NaN</td>\n",
       "      <td>NaN</td>\n",
       "      <td>W</td>\n",
       "      <td>44.0</td>\n",
       "      <td>W</td>\n",
       "      <td>...</td>\n",
       "      <td>22.0</td>\n",
       "      <td>1007.7</td>\n",
       "      <td>1007.1</td>\n",
       "      <td>8.0</td>\n",
       "      <td>NaN</td>\n",
       "      <td>16.9</td>\n",
       "      <td>21.8</td>\n",
       "      <td>No</td>\n",
       "      <td>0.0</td>\n",
       "      <td>No</td>\n",
       "    </tr>\n",
       "    <tr>\n",
       "      <td>1</td>\n",
       "      <td>2008-12-02</td>\n",
       "      <td>Albury</td>\n",
       "      <td>7.4</td>\n",
       "      <td>25.1</td>\n",
       "      <td>0.0</td>\n",
       "      <td>NaN</td>\n",
       "      <td>NaN</td>\n",
       "      <td>WNW</td>\n",
       "      <td>44.0</td>\n",
       "      <td>NNW</td>\n",
       "      <td>...</td>\n",
       "      <td>25.0</td>\n",
       "      <td>1010.6</td>\n",
       "      <td>1007.8</td>\n",
       "      <td>NaN</td>\n",
       "      <td>NaN</td>\n",
       "      <td>17.2</td>\n",
       "      <td>24.3</td>\n",
       "      <td>No</td>\n",
       "      <td>0.0</td>\n",
       "      <td>No</td>\n",
       "    </tr>\n",
       "    <tr>\n",
       "      <td>2</td>\n",
       "      <td>2008-12-03</td>\n",
       "      <td>Albury</td>\n",
       "      <td>12.9</td>\n",
       "      <td>25.7</td>\n",
       "      <td>0.0</td>\n",
       "      <td>NaN</td>\n",
       "      <td>NaN</td>\n",
       "      <td>WSW</td>\n",
       "      <td>46.0</td>\n",
       "      <td>W</td>\n",
       "      <td>...</td>\n",
       "      <td>30.0</td>\n",
       "      <td>1007.6</td>\n",
       "      <td>1008.7</td>\n",
       "      <td>NaN</td>\n",
       "      <td>2.0</td>\n",
       "      <td>21.0</td>\n",
       "      <td>23.2</td>\n",
       "      <td>No</td>\n",
       "      <td>0.0</td>\n",
       "      <td>No</td>\n",
       "    </tr>\n",
       "    <tr>\n",
       "      <td>3</td>\n",
       "      <td>2008-12-04</td>\n",
       "      <td>Albury</td>\n",
       "      <td>9.2</td>\n",
       "      <td>28.0</td>\n",
       "      <td>0.0</td>\n",
       "      <td>NaN</td>\n",
       "      <td>NaN</td>\n",
       "      <td>NE</td>\n",
       "      <td>24.0</td>\n",
       "      <td>SE</td>\n",
       "      <td>...</td>\n",
       "      <td>16.0</td>\n",
       "      <td>1017.6</td>\n",
       "      <td>1012.8</td>\n",
       "      <td>NaN</td>\n",
       "      <td>NaN</td>\n",
       "      <td>18.1</td>\n",
       "      <td>26.5</td>\n",
       "      <td>No</td>\n",
       "      <td>1.0</td>\n",
       "      <td>No</td>\n",
       "    </tr>\n",
       "    <tr>\n",
       "      <td>4</td>\n",
       "      <td>2008-12-05</td>\n",
       "      <td>Albury</td>\n",
       "      <td>17.5</td>\n",
       "      <td>32.3</td>\n",
       "      <td>1.0</td>\n",
       "      <td>NaN</td>\n",
       "      <td>NaN</td>\n",
       "      <td>W</td>\n",
       "      <td>41.0</td>\n",
       "      <td>ENE</td>\n",
       "      <td>...</td>\n",
       "      <td>33.0</td>\n",
       "      <td>1010.8</td>\n",
       "      <td>1006.0</td>\n",
       "      <td>7.0</td>\n",
       "      <td>8.0</td>\n",
       "      <td>17.8</td>\n",
       "      <td>29.7</td>\n",
       "      <td>No</td>\n",
       "      <td>0.2</td>\n",
       "      <td>No</td>\n",
       "    </tr>\n",
       "  </tbody>\n",
       "</table>\n",
       "<p>5 rows × 24 columns</p>\n",
       "</div>"
      ],
      "text/plain": [
       "        Date Location  MinTemp  MaxTemp  Rainfall  Evaporation  Sunshine  \\\n",
       "0 2008-12-01   Albury     13.4     22.9       0.6          NaN       NaN   \n",
       "1 2008-12-02   Albury      7.4     25.1       0.0          NaN       NaN   \n",
       "2 2008-12-03   Albury     12.9     25.7       0.0          NaN       NaN   \n",
       "3 2008-12-04   Albury      9.2     28.0       0.0          NaN       NaN   \n",
       "4 2008-12-05   Albury     17.5     32.3       1.0          NaN       NaN   \n",
       "\n",
       "  WindGustDir  WindGustSpeed WindDir9am  ... Humidity3pm  Pressure9am  \\\n",
       "0           W           44.0          W  ...        22.0       1007.7   \n",
       "1         WNW           44.0        NNW  ...        25.0       1010.6   \n",
       "2         WSW           46.0          W  ...        30.0       1007.6   \n",
       "3          NE           24.0         SE  ...        16.0       1017.6   \n",
       "4           W           41.0        ENE  ...        33.0       1010.8   \n",
       "\n",
       "   Pressure3pm  Cloud9am  Cloud3pm  Temp9am  Temp3pm  RainToday  RISK_MM  \\\n",
       "0       1007.1       8.0       NaN     16.9     21.8         No      0.0   \n",
       "1       1007.8       NaN       NaN     17.2     24.3         No      0.0   \n",
       "2       1008.7       NaN       2.0     21.0     23.2         No      0.0   \n",
       "3       1012.8       NaN       NaN     18.1     26.5         No      1.0   \n",
       "4       1006.0       7.0       8.0     17.8     29.7         No      0.2   \n",
       "\n",
       "   RainTomorrow  \n",
       "0            No  \n",
       "1            No  \n",
       "2            No  \n",
       "3            No  \n",
       "4            No  \n",
       "\n",
       "[5 rows x 24 columns]"
      ]
     },
     "execution_count": 138,
     "metadata": {},
     "output_type": "execute_result"
    }
   ],
   "source": [
    "df.head()"
   ]
  },
  {
   "cell_type": "code",
   "execution_count": 139,
   "metadata": {},
   "outputs": [
    {
     "name": "stdout",
     "output_type": "stream",
     "text": [
      "<class 'pandas.core.frame.DataFrame'>\n",
      "RangeIndex: 142193 entries, 0 to 142192\n",
      "Data columns (total 24 columns):\n",
      "Date             142193 non-null datetime64[ns]\n",
      "Location         142193 non-null object\n",
      "MinTemp          141556 non-null float64\n",
      "MaxTemp          141871 non-null float64\n",
      "Rainfall         140787 non-null float64\n",
      "Evaporation      81350 non-null float64\n",
      "Sunshine         74377 non-null float64\n",
      "WindGustDir      132863 non-null object\n",
      "WindGustSpeed    132923 non-null float64\n",
      "WindDir9am       132180 non-null object\n",
      "WindDir3pm       138415 non-null object\n",
      "WindSpeed9am     140845 non-null float64\n",
      "WindSpeed3pm     139563 non-null float64\n",
      "Humidity9am      140419 non-null float64\n",
      "Humidity3pm      138583 non-null float64\n",
      "Pressure9am      128179 non-null float64\n",
      "Pressure3pm      128212 non-null float64\n",
      "Cloud9am         88536 non-null float64\n",
      "Cloud3pm         85099 non-null float64\n",
      "Temp9am          141289 non-null float64\n",
      "Temp3pm          139467 non-null float64\n",
      "RainToday        140787 non-null object\n",
      "RISK_MM          142193 non-null float64\n",
      "RainTomorrow     142193 non-null object\n",
      "dtypes: datetime64[ns](1), float64(17), object(6)\n",
      "memory usage: 26.0+ MB\n"
     ]
    }
   ],
   "source": [
    "df.info()"
   ]
  },
  {
   "cell_type": "code",
   "execution_count": 140,
   "metadata": {},
   "outputs": [
    {
     "data": {
      "text/plain": [
       "(142193, 24)"
      ]
     },
     "execution_count": 140,
     "metadata": {},
     "output_type": "execute_result"
    }
   ],
   "source": [
    "df.shape"
   ]
  },
  {
   "cell_type": "code",
   "execution_count": 141,
   "metadata": {},
   "outputs": [
    {
     "data": {
      "text/plain": [
       "Date                 0\n",
       "Location             0\n",
       "MinTemp            637\n",
       "MaxTemp            322\n",
       "Rainfall          1406\n",
       "Evaporation      60843\n",
       "Sunshine         67816\n",
       "WindGustDir       9330\n",
       "WindGustSpeed     9270\n",
       "WindDir9am       10013\n",
       "WindDir3pm        3778\n",
       "WindSpeed9am      1348\n",
       "WindSpeed3pm      2630\n",
       "Humidity9am       1774\n",
       "Humidity3pm       3610\n",
       "Pressure9am      14014\n",
       "Pressure3pm      13981\n",
       "Cloud9am         53657\n",
       "Cloud3pm         57094\n",
       "Temp9am            904\n",
       "Temp3pm           2726\n",
       "RainToday         1406\n",
       "RISK_MM              0\n",
       "RainTomorrow         0\n",
       "dtype: int64"
      ]
     },
     "execution_count": 141,
     "metadata": {},
     "output_type": "execute_result"
    }
   ],
   "source": [
    "#anount of NaN values in each column\n",
    "df.isnull().sum()"
   ]
  },
  {
   "cell_type": "code",
   "execution_count": 142,
   "metadata": {},
   "outputs": [
    {
     "data": {
      "text/plain": [
       "Date              0.0\n",
       "Location          0.0\n",
       "MinTemp           0.4\n",
       "MaxTemp           0.2\n",
       "Rainfall          1.0\n",
       "Evaporation      42.8\n",
       "Sunshine         47.7\n",
       "WindGustDir       6.6\n",
       "WindGustSpeed     6.5\n",
       "WindDir9am        7.0\n",
       "WindDir3pm        2.7\n",
       "WindSpeed9am      0.9\n",
       "WindSpeed3pm      1.8\n",
       "Humidity9am       1.2\n",
       "Humidity3pm       2.5\n",
       "Pressure9am       9.9\n",
       "Pressure3pm       9.8\n",
       "Cloud9am         37.7\n",
       "Cloud3pm         40.2\n",
       "Temp9am           0.6\n",
       "Temp3pm           1.9\n",
       "RainToday         1.0\n",
       "RISK_MM           0.0\n",
       "RainTomorrow      0.0\n",
       "dtype: float64"
      ]
     },
     "execution_count": 142,
     "metadata": {},
     "output_type": "execute_result"
    }
   ],
   "source": [
    "#percentage of NaN values in each column\n",
    "round(df.isnull().sum()/len(df)*100,ndigits=1)"
   ]
  },
  {
   "cell_type": "code",
   "execution_count": 143,
   "metadata": {},
   "outputs": [
    {
     "data": {
      "text/plain": [
       "<matplotlib.axes._subplots.AxesSubplot at 0x2072ce1b5c8>"
      ]
     },
     "execution_count": 143,
     "metadata": {},
     "output_type": "execute_result"
    },
    {
     "data": {
      "image/png": "[encoded data removed]",
      "text/plain": [
       "<Figure size 432x288 with 1 Axes>"
      ]
     },
     "metadata": {
      "needs_background": "light"
     },
     "output_type": "display_data"
    }
   ],
   "source": [
    "#heatmap for missing data\n",
    "sns.heatmap(df.isnull(),yticklabels=False,cbar=False)"
   ]
  },
  {
   "cell_type": "markdown",
   "metadata": {},
   "source": [
    "### description of each column\n",
    "\n",
    "    Data: The date of the sample\n",
    "    Location: The location of the weather station\n",
    "    MinTemp: The minimum tempature of the day\n",
    "    MaxTemp: The maximum tempature of the day\n",
    "    Rainfall: The amount of rain for the day (mm)\n",
    "    Evaporation: The amount of water Evaporation (mm)\n",
    "    Sunshine: How many hours of sun in the day\n",
    "    WindGustDir: The direction of the strongest wind of the day\n",
    "    WindGustSpeed: The speed of the strongest wind of the day (km/hr)\n",
    "    WindDir9am: Direction of the wind at 9am\n",
    "    WindDir3pm: Direction of the wind at 3pm\n",
    "    WindSpeed9am: Wind speed at 9am (km/hr)\n",
    "    WindSpeed3pm: Wind speed at 3pm (km/hr)\n",
    "    Humidity9am: Humidity at 9am (percent)\n",
    "    Humidity3pm: Humidity at 3pm (percent)\n",
    "    Pressure9am: Air Pressure at 9am (hpa)\n",
    "    Pressure3pm: Air Pressure at 3pm (hpa)\n",
    "    Cloud9am: Fraction of sky obscured by cloud at 9am (eigths)\n",
    "    Cloud3pm: Fraction of sky obscured by cloud at 3pm (eigths)\n",
    "    Temp9am: Temperature at 9am  (degrees C)\n",
    "    Temp3pm: Temperature at 3pm (degrees C)\n",
    "    RainToday: Did it rain today?\n",
    "    RISK_MM: The amount of rain the next day (mm)\n",
    "    RainTomorrow: Did it rain tomorrow?"
   ]
  },
  {
   "cell_type": "markdown",
   "metadata": {},
   "source": [
    "#  \n",
    "#  "
   ]
  },
  {
   "cell_type": "markdown",
   "metadata": {},
   "source": [
    "# Data cleaning and preperation\n"
   ]
  },
  {
   "cell_type": "markdown",
   "metadata": {},
   "source": [
    "### RainToday"
   ]
  },
  {
   "cell_type": "code",
   "execution_count": 144,
   "metadata": {},
   "outputs": [],
   "source": [
    "#switch from \"yes\" and \"no\" to 0 and 1\n",
    "df['RainToday']=df['RainToday'].map({'Yes':1,'No':0})"
   ]
  },
  {
   "cell_type": "code",
   "execution_count": 145,
   "metadata": {},
   "outputs": [],
   "source": [
    "#deal with NaN values\n",
    "df['RainToday'].fillna(method='bfill',inplace=True)"
   ]
  },
  {
   "cell_type": "markdown",
   "metadata": {},
   "source": [
    "### Date"
   ]
  },
  {
   "cell_type": "code",
   "execution_count": 146,
   "metadata": {},
   "outputs": [],
   "source": [
    "#split the date into year,month, day\n",
    "df['Year']=df['Date'].apply(lambda x: x.year)\n",
    "df['Month']=df['Date'].apply(lambda x: x.month)\n",
    "df['Day']=df['Date'].apply(lambda x: x.day)\n",
    "df=df.drop('Date',axis=1)"
   ]
  },
  {
   "cell_type": "code",
   "execution_count": 147,
   "metadata": {},
   "outputs": [
    {
     "data": {
      "text/plain": [
       "Text(0.5, 0, 'month')"
      ]
     },
     "execution_count": 147,
     "metadata": {},
     "output_type": "execute_result"
    },
    {
     "data": {
      "image/png": "[encoded data removed]",
      "text/plain": [
       "<Figure size 432x288 with 1 Axes>"
      ]
     },
     "metadata": {
      "needs_background": "light"
     },
     "output_type": "display_data"
    }
   ],
   "source": [
    "#lets see how many rainy days are there in average in each month\n",
    "s1=df.groupby('Month').RainToday\n",
    "s2=s1.sum()/s1.count()*100\n",
    "\n",
    "fig, axes =plt.subplots()\n",
    "axes.bar(np.arange(1,13),s2,color='#55FFA5')\n",
    "axes.set_xticks(np.arange(1,13))\n",
    "axes.set_ylabel('%',fontsize=30)\n",
    "axes.set_xlabel('month',fontsize=20)"
   ]
  },
  {
   "cell_type": "markdown",
   "metadata": {},
   "source": [
    "### MinTemp"
   ]
  },
  {
   "cell_type": "code",
   "execution_count": 148,
   "metadata": {},
   "outputs": [],
   "source": [
    "#deal with NaN values\n",
    "df['MinTemp'].fillna(method='bfill',inplace=True)"
   ]
  },
  {
   "cell_type": "markdown",
   "metadata": {},
   "source": [
    "### MaxTemp"
   ]
  },
  {
   "cell_type": "code",
   "execution_count": 149,
   "metadata": {},
   "outputs": [],
   "source": [
    "#deal with NaN values\n",
    "df['MaxTemp'].fillna(method='bfill',inplace=True)"
   ]
  },
  {
   "cell_type": "code",
   "execution_count": 150,
   "metadata": {},
   "outputs": [
    {
     "data": {
      "text/plain": [
       "<matplotlib.legend.Legend at 0x2072c063688>"
      ]
     },
     "execution_count": 150,
     "metadata": {},
     "output_type": "execute_result"
    },
    {
     "data": {
      "image/png": "[encoded data removed]",
      "text/plain": [
       "<Figure size 432x288 with 1 Axes>"
      ]
     },
     "metadata": {
      "needs_background": "light"
     },
     "output_type": "display_data"
    }
   ],
   "source": [
    "#lets take a look at the average max and min temperature in each month\n",
    "\n",
    "s3=df.groupby('Month').MaxTemp.mean()\n",
    "plt.plot(np.arange(1,13),s3,color='red',label='max')\n",
    "plt.ylabel('degrees Celsius',fontsize=14)\n",
    "plt.xlabel('month',fontsize=15)\n",
    "plt.xticks(np.arange(1,13))\n",
    "\n",
    "s3=df.groupby('Month').MinTemp.mean()\n",
    "plt.plot(np.arange(1,13),s3,color='#00CDFF',label='min')\n",
    "plt.ylabel('degrees Celsius',fontsize=14)\n",
    "plt.xlabel('month',fontsize=15)\n",
    "plt.xticks(np.arange(1,13))\n",
    "\n",
    "plt.ylim(3,31)\n",
    "plt.legend()"
   ]
  },
  {
   "cell_type": "markdown",
   "metadata": {},
   "source": [
    "### Rainfall"
   ]
  },
  {
   "cell_type": "code",
   "execution_count": 151,
   "metadata": {},
   "outputs": [],
   "source": [
    "#deal with NaN values\n",
    "df['Rainfall'].fillna(method='bfill',inplace=True)"
   ]
  },
  {
   "cell_type": "markdown",
   "metadata": {},
   "source": [
    "### Evaporation"
   ]
  },
  {
   "cell_type": "code",
   "execution_count": 152,
   "metadata": {},
   "outputs": [],
   "source": [
    "#deal with NaN values, replace with median\n",
    "df['Evaporation'].fillna(df['Evaporation'].median(),inplace=True)"
   ]
  },
  {
   "cell_type": "markdown",
   "metadata": {},
   "source": [
    "### Sunshine"
   ]
  },
  {
   "cell_type": "code",
   "execution_count": 18,
   "metadata": {},
   "outputs": [],
   "source": [
    "s4=[]\n",
    "for i in range (1,13):\n",
    "    s4.append(df[df['Month']==i].Sunshine.mean())\n",
    "\n",
    "    \n",
    "s5=[]\n",
    "for i in range (0,len(df)):\n",
    "    s5.append(s4[df.iloc[i].Month-1])"
   ]
  },
  {
   "cell_type": "code",
   "execution_count": 19,
   "metadata": {
    "scrolled": true
   },
   "outputs": [],
   "source": [
    "# deal with NaN values, replace with average of the month\n",
    "df['Sunshine'].fillna(pd.Series(s5),inplace=True)"
   ]
  },
  {
   "cell_type": "markdown",
   "metadata": {},
   "source": [
    "### WindSpeed9am"
   ]
  },
  {
   "cell_type": "code",
   "execution_count": 20,
   "metadata": {},
   "outputs": [
    {
     "data": {
      "text/plain": [
       "(-0.5, 228.5, 219.5, -0.5)"
      ]
     },
     "execution_count": 20,
     "metadata": {},
     "output_type": "execute_result"
    },
    {
     "data": {
      "image/png": "[encoded data removed]",
      "text/plain": [
       "<Figure size 432x288 with 1 Axes>"
      ]
     },
     "metadata": {},
     "output_type": "display_data"
    }
   ],
   "source": [
    "#A graph to explane wind directions\n",
    "\n",
    "img = mpimg.imread('wind.png')\n",
    "plt.imshow(img)\n",
    "plt.xticks([])\n",
    "plt.yticks([])\n",
    "plt.axis('off')"
   ]
  },
  {
   "cell_type": "code",
   "execution_count": 21,
   "metadata": {},
   "outputs": [],
   "source": [
    "# deal with NaN values\n",
    "df['WindSpeed9am'].fillna(method='bfill',inplace=True)"
   ]
  },
  {
   "cell_type": "markdown",
   "metadata": {},
   "source": [
    "### WindDir3pm"
   ]
  },
  {
   "cell_type": "code",
   "execution_count": 22,
   "metadata": {},
   "outputs": [],
   "source": [
    "# deal with NaN values\n",
    "df['WindDir3pm'].fillna(method='bfill',inplace=True)"
   ]
  },
  {
   "cell_type": "markdown",
   "metadata": {},
   "source": [
    "### WindGustDir"
   ]
  },
  {
   "cell_type": "code",
   "execution_count": 23,
   "metadata": {},
   "outputs": [],
   "source": [
    "# deal with NaN values, replace with 'WindDir3pm'. we can asume the wind direction doen't change alot during the day\n",
    "df['WindGustDir'].fillna(df['WindDir3pm'],inplace=True)"
   ]
  },
  {
   "cell_type": "markdown",
   "metadata": {},
   "source": [
    "### WindSpeed9am"
   ]
  },
  {
   "cell_type": "code",
   "execution_count": 24,
   "metadata": {},
   "outputs": [],
   "source": [
    "# deal with NaN values\n",
    "df['WindSpeed9am'].fillna(method='bfill',inplace=True)"
   ]
  },
  {
   "cell_type": "markdown",
   "metadata": {},
   "source": [
    "### WindSpeed3pm"
   ]
  },
  {
   "cell_type": "code",
   "execution_count": 25,
   "metadata": {},
   "outputs": [],
   "source": [
    "# deal with NaN values\n",
    "df['WindSpeed3pm'].fillna(method='bfill',inplace=True)"
   ]
  },
  {
   "cell_type": "markdown",
   "metadata": {},
   "source": [
    "### WindGustSpeed"
   ]
  },
  {
   "cell_type": "code",
   "execution_count": 26,
   "metadata": {},
   "outputs": [
    {
     "data": {
      "text/plain": [
       "<BarContainer object of 2 artists>"
      ]
     },
     "execution_count": 26,
     "metadata": {},
     "output_type": "execute_result"
    },
    {
     "data": {
      "image/png": "[encoded data removed]",
      "text/plain": [
       "<Figure size 432x288 with 1 Axes>"
      ]
     },
     "metadata": {
      "needs_background": "light"
     },
     "output_type": "display_data"
    }
   ],
   "source": [
    "# we can see, 'WindGustSpeed' is about 2.1 times 'WindSpeed3pm'\n",
    "plt.bar(['WindSpeed3pm*2.1','WindGustSpeed'],[df['WindSpeed3pm'].mean()*2.1,df['WindGustSpeed'].mean()],width=0.5,color='#FF9900')"
   ]
  },
  {
   "cell_type": "code",
   "execution_count": 27,
   "metadata": {},
   "outputs": [],
   "source": [
    "# deal with NaN values, replace with 'WindSpeed3pm'*2.1\n",
    "df['WindGustSpeed'].fillna(df['WindSpeed3pm']*2.1,inplace=True)"
   ]
  },
  {
   "cell_type": "markdown",
   "metadata": {},
   "source": [
    "### Humidity9am"
   ]
  },
  {
   "cell_type": "code",
   "execution_count": 28,
   "metadata": {},
   "outputs": [],
   "source": [
    "# deal with NaN values, replace with the mean\n",
    "df['Humidity9am'].fillna(df['Humidity9am'].mean(),inplace=True)"
   ]
  },
  {
   "cell_type": "markdown",
   "metadata": {},
   "source": [
    "### Humidity3pm"
   ]
  },
  {
   "cell_type": "code",
   "execution_count": 29,
   "metadata": {},
   "outputs": [],
   "source": [
    "# deal with NaN values, replace with the mean\n",
    "df['Humidity3pm'].fillna(df['Humidity3pm'].mean(),inplace=True)"
   ]
  },
  {
   "cell_type": "markdown",
   "metadata": {},
   "source": [
    "### Pressure9am"
   ]
  },
  {
   "cell_type": "code",
   "execution_count": 30,
   "metadata": {},
   "outputs": [],
   "source": [
    "# deal with NaN values, replace with the average pressure on earth\n",
    "df['Pressure9am'].fillna(1013.25,inplace=True)"
   ]
  },
  {
   "cell_type": "markdown",
   "metadata": {},
   "source": [
    "### Pressure3pm"
   ]
  },
  {
   "cell_type": "code",
   "execution_count": 31,
   "metadata": {},
   "outputs": [],
   "source": [
    "# deal with NaN values, replace with the average pressure on earth\n",
    "df['Pressure3pm'].fillna(1013.25,inplace=True)"
   ]
  },
  {
   "cell_type": "markdown",
   "metadata": {},
   "source": [
    "### Cloud9am"
   ]
  },
  {
   "cell_type": "code",
   "execution_count": 32,
   "metadata": {},
   "outputs": [],
   "source": [
    "# deal with NaN values, replace with the mean\n",
    "df['Cloud9am'].fillna(df['Cloud9am'].mean(),inplace=True)"
   ]
  },
  {
   "cell_type": "markdown",
   "metadata": {},
   "source": [
    "### Cloud3pm"
   ]
  },
  {
   "cell_type": "code",
   "execution_count": 33,
   "metadata": {},
   "outputs": [],
   "source": [
    "# deal with NaN values, replace with the mean\n",
    "df['Cloud3pm'].fillna(df['Cloud3pm'].mean(),inplace=True)"
   ]
  },
  {
   "cell_type": "markdown",
   "metadata": {},
   "source": [
    "### Temp9am"
   ]
  },
  {
   "cell_type": "code",
   "execution_count": 34,
   "metadata": {},
   "outputs": [],
   "source": [
    "# deal with NaN values\n",
    "df['Temp9am'].fillna(method='bfill',inplace=True)"
   ]
  },
  {
   "cell_type": "markdown",
   "metadata": {},
   "source": [
    "### Temp3pm"
   ]
  },
  {
   "cell_type": "code",
   "execution_count": 35,
   "metadata": {},
   "outputs": [],
   "source": [
    "# deal with NaN values\n",
    "df['Temp3pm'].fillna(method='bfill',inplace=True)"
   ]
  },
  {
   "cell_type": "markdown",
   "metadata": {},
   "source": [
    "### RainTomorrow"
   ]
  },
  {
   "cell_type": "code",
   "execution_count": 36,
   "metadata": {},
   "outputs": [],
   "source": [
    "#switch from \"yes\" and \"no\" to 0 and 1\n",
    "df['RainTomorrow']=df['RainTomorrow'].map({'Yes':1,'No':0})"
   ]
  },
  {
   "cell_type": "markdown",
   "metadata": {},
   "source": [
    "## dummies "
   ]
  },
  {
   "cell_type": "code",
   "execution_count": 37,
   "metadata": {},
   "outputs": [
    {
     "data": {
      "text/plain": [
       "49"
      ]
     },
     "execution_count": 37,
     "metadata": {},
     "output_type": "execute_result"
    }
   ],
   "source": [
    "#how many different locations are there?\n",
    "df['Location'].nunique()"
   ]
  },
  {
   "cell_type": "code",
   "execution_count": 38,
   "metadata": {},
   "outputs": [],
   "source": [
    "#dummies for Location\n",
    "df2=pd.get_dummies(df['Location'])\n",
    "df=pd.concat([df,df2],axis=1)\n",
    "df=df.drop('Location',axis=1)"
   ]
  },
  {
   "cell_type": "code",
   "execution_count": 39,
   "metadata": {},
   "outputs": [],
   "source": [
    "#Dummies for month\n",
    "df2=pd.get_dummies(df['Month'])\n",
    "df=pd.concat([df,df2],axis=1)\n",
    "df=df.drop('Month',axis=1)"
   ]
  },
  {
   "cell_type": "code",
   "execution_count": 40,
   "metadata": {},
   "outputs": [
    {
     "data": {
      "text/plain": [
       "16"
      ]
     },
     "execution_count": 40,
     "metadata": {},
     "output_type": "execute_result"
    }
   ],
   "source": [
    "#how many different wind directions are there?\n",
    "df['WindGustDir'].nunique()"
   ]
  },
  {
   "cell_type": "code",
   "execution_count": 41,
   "metadata": {},
   "outputs": [],
   "source": [
    "#Dummies for WindGustDir\n",
    "df2=pd.get_dummies(df['WindGustDir'])\n",
    "df=pd.concat([df,df2],axis=1)\n",
    "df=df.drop('WindGustDir',axis=1)"
   ]
  },
  {
   "cell_type": "code",
   "execution_count": 42,
   "metadata": {},
   "outputs": [],
   "source": [
    "#Dummies for WindDir9am\n",
    "df2=pd.get_dummies(df['WindDir9am'])\n",
    "df=pd.concat([df,df2],axis=1)\n",
    "df=df.drop('WindDir9am',axis=1)"
   ]
  },
  {
   "cell_type": "code",
   "execution_count": 43,
   "metadata": {},
   "outputs": [],
   "source": [
    "#Dummies for WindDir3pm\n",
    "df2=pd.get_dummies(df['WindDir3pm'])\n",
    "df=pd.concat([df,df2],axis=1)\n",
    "df=df.drop('WindDir3pm',axis=1)"
   ]
  },
  {
   "cell_type": "markdown",
   "metadata": {},
   "source": [
    "### Note:\n",
    "if we look close, the column 'RISK_MM' is the amount of rain the next day, which is what we want to prdict- if it's going to rain. the column is clearly there to be prediced, as a regression problem. as we are only interesded in classification problem, the column can be removed."
   ]
  },
  {
   "cell_type": "code",
   "execution_count": 44,
   "metadata": {},
   "outputs": [],
   "source": [
    "#drop 'RISK_MM'\n",
    "df=df.drop('RISK_MM',axis=1)"
   ]
  },
  {
   "cell_type": "code",
   "execution_count": null,
   "metadata": {},
   "outputs": [],
   "source": []
  },
  {
   "cell_type": "code",
   "execution_count": 45,
   "metadata": {},
   "outputs": [
    {
     "data": {
      "text/plain": [
       "False"
      ]
     },
     "execution_count": 45,
     "metadata": {},
     "output_type": "execute_result"
    }
   ],
   "source": [
    "#there are no NaN values!\n",
    "df.isnull().any().any()"
   ]
  },
  {
   "cell_type": "markdown",
   "metadata": {},
   "source": [
    "# split into x and y"
   ]
  },
  {
   "cell_type": "code",
   "execution_count": 46,
   "metadata": {},
   "outputs": [],
   "source": [
    "x=df.drop('RainTomorrow',axis=1)\n",
    "y=df['RainTomorrow']"
   ]
  },
  {
   "cell_type": "markdown",
   "metadata": {},
   "source": [
    "# scaling"
   ]
  },
  {
   "cell_type": "code",
   "execution_count": 47,
   "metadata": {},
   "outputs": [],
   "source": [
    "col=x.columns"
   ]
  },
  {
   "cell_type": "code",
   "execution_count": 48,
   "metadata": {},
   "outputs": [],
   "source": [
    "scalar=StandardScaler()\n",
    "x=scalar.fit_transform(x)\n",
    "x=pd.DataFrame(x,columns=col)"
   ]
  },
  {
   "cell_type": "code",
   "execution_count": 49,
   "metadata": {},
   "outputs": [
    {
     "data": {
      "text/html": [
       "<div>\n",
       "<style scoped>\n",
       "    .dataframe tbody tr th:only-of-type {\n",
       "        vertical-align: middle;\n",
       "    }\n",
       "\n",
       "    .dataframe tbody tr th {\n",
       "        vertical-align: top;\n",
       "    }\n",
       "\n",
       "    .dataframe thead th {\n",
       "        text-align: right;\n",
       "    }\n",
       "</style>\n",
       "<table border=\"1\" class=\"dataframe\">\n",
       "  <thead>\n",
       "    <tr style=\"text-align: right;\">\n",
       "      <th></th>\n",
       "      <th>MinTemp</th>\n",
       "      <th>MaxTemp</th>\n",
       "      <th>Rainfall</th>\n",
       "      <th>Evaporation</th>\n",
       "      <th>Sunshine</th>\n",
       "      <th>WindGustSpeed</th>\n",
       "      <th>WindSpeed9am</th>\n",
       "      <th>WindSpeed3pm</th>\n",
       "      <th>Humidity9am</th>\n",
       "      <th>Humidity3pm</th>\n",
       "      <th>...</th>\n",
       "      <th>NNW</th>\n",
       "      <th>NW</th>\n",
       "      <th>S</th>\n",
       "      <th>SE</th>\n",
       "      <th>SSE</th>\n",
       "      <th>SSW</th>\n",
       "      <th>SW</th>\n",
       "      <th>W</th>\n",
       "      <th>WNW</th>\n",
       "      <th>WSW</th>\n",
       "    </tr>\n",
       "  </thead>\n",
       "  <tbody>\n",
       "    <tr>\n",
       "      <td>0</td>\n",
       "      <td>0.189120</td>\n",
       "      <td>-0.046238</td>\n",
       "      <td>-0.208836</td>\n",
       "      <td>-0.120303</td>\n",
       "      <td>0.478122</td>\n",
       "      <td>0.291147</td>\n",
       "      <td>0.674619</td>\n",
       "      <td>0.603110</td>\n",
       "      <td>0.113891</td>\n",
       "      <td>-1.435935</td>\n",
       "      <td>...</td>\n",
       "      <td>-0.241321</td>\n",
       "      <td>-0.256115</td>\n",
       "      <td>-0.27384</td>\n",
       "      <td>-0.289191</td>\n",
       "      <td>-0.27338</td>\n",
       "      <td>-0.246419</td>\n",
       "      <td>-0.264281</td>\n",
       "      <td>-0.275616</td>\n",
       "      <td>3.903542</td>\n",
       "      <td>-0.266300</td>\n",
       "    </tr>\n",
       "    <tr>\n",
       "      <td>1</td>\n",
       "      <td>-0.747950</td>\n",
       "      <td>0.262862</td>\n",
       "      <td>-0.278574</td>\n",
       "      <td>-0.120303</td>\n",
       "      <td>0.478122</td>\n",
       "      <td>0.291147</td>\n",
       "      <td>-1.125052</td>\n",
       "      <td>0.375437</td>\n",
       "      <td>-1.312265</td>\n",
       "      <td>-1.289821</td>\n",
       "      <td>...</td>\n",
       "      <td>-0.241321</td>\n",
       "      <td>-0.256115</td>\n",
       "      <td>-0.27384</td>\n",
       "      <td>-0.289191</td>\n",
       "      <td>-0.27338</td>\n",
       "      <td>-0.246419</td>\n",
       "      <td>-0.264281</td>\n",
       "      <td>-0.275616</td>\n",
       "      <td>-0.256178</td>\n",
       "      <td>3.755158</td>\n",
       "    </tr>\n",
       "    <tr>\n",
       "      <td>2</td>\n",
       "      <td>0.111031</td>\n",
       "      <td>0.347162</td>\n",
       "      <td>-0.278574</td>\n",
       "      <td>-0.120303</td>\n",
       "      <td>0.478122</td>\n",
       "      <td>0.431604</td>\n",
       "      <td>0.562139</td>\n",
       "      <td>0.830782</td>\n",
       "      <td>-1.629188</td>\n",
       "      <td>-1.046299</td>\n",
       "      <td>...</td>\n",
       "      <td>-0.241321</td>\n",
       "      <td>-0.256115</td>\n",
       "      <td>-0.27384</td>\n",
       "      <td>-0.289191</td>\n",
       "      <td>-0.27338</td>\n",
       "      <td>-0.246419</td>\n",
       "      <td>-0.264281</td>\n",
       "      <td>-0.275616</td>\n",
       "      <td>-0.256178</td>\n",
       "      <td>3.755158</td>\n",
       "    </tr>\n",
       "    <tr>\n",
       "      <td>3</td>\n",
       "      <td>-0.466829</td>\n",
       "      <td>0.670312</td>\n",
       "      <td>-0.278574</td>\n",
       "      <td>-0.120303</td>\n",
       "      <td>0.478122</td>\n",
       "      <td>-1.113429</td>\n",
       "      <td>-0.337696</td>\n",
       "      <td>-1.104434</td>\n",
       "      <td>-1.259444</td>\n",
       "      <td>-1.728162</td>\n",
       "      <td>...</td>\n",
       "      <td>-0.241321</td>\n",
       "      <td>-0.256115</td>\n",
       "      <td>-0.27384</td>\n",
       "      <td>-0.289191</td>\n",
       "      <td>-0.27338</td>\n",
       "      <td>-0.246419</td>\n",
       "      <td>-0.264281</td>\n",
       "      <td>-0.275616</td>\n",
       "      <td>-0.256178</td>\n",
       "      <td>-0.266300</td>\n",
       "    </tr>\n",
       "    <tr>\n",
       "      <td>4</td>\n",
       "      <td>0.829450</td>\n",
       "      <td>1.274461</td>\n",
       "      <td>-0.162344</td>\n",
       "      <td>-0.120303</td>\n",
       "      <td>0.478122</td>\n",
       "      <td>0.080460</td>\n",
       "      <td>-0.787614</td>\n",
       "      <td>0.147765</td>\n",
       "      <td>0.694918</td>\n",
       "      <td>-0.900186</td>\n",
       "      <td>...</td>\n",
       "      <td>-0.241321</td>\n",
       "      <td>3.904492</td>\n",
       "      <td>-0.27384</td>\n",
       "      <td>-0.289191</td>\n",
       "      <td>-0.27338</td>\n",
       "      <td>-0.246419</td>\n",
       "      <td>-0.264281</td>\n",
       "      <td>-0.275616</td>\n",
       "      <td>-0.256178</td>\n",
       "      <td>-0.266300</td>\n",
       "    </tr>\n",
       "  </tbody>\n",
       "</table>\n",
       "<p>5 rows × 128 columns</p>\n",
       "</div>"
      ],
      "text/plain": [
       "    MinTemp   MaxTemp  Rainfall  Evaporation  Sunshine  WindGustSpeed  \\\n",
       "0  0.189120 -0.046238 -0.208836    -0.120303  0.478122       0.291147   \n",
       "1 -0.747950  0.262862 -0.278574    -0.120303  0.478122       0.291147   \n",
       "2  0.111031  0.347162 -0.278574    -0.120303  0.478122       0.431604   \n",
       "3 -0.466829  0.670312 -0.278574    -0.120303  0.478122      -1.113429   \n",
       "4  0.829450  1.274461 -0.162344    -0.120303  0.478122       0.080460   \n",
       "\n",
       "   WindSpeed9am  WindSpeed3pm  Humidity9am  Humidity3pm  ...       NNW  \\\n",
       "0      0.674619      0.603110     0.113891    -1.435935  ... -0.241321   \n",
       "1     -1.125052      0.375437    -1.312265    -1.289821  ... -0.241321   \n",
       "2      0.562139      0.830782    -1.629188    -1.046299  ... -0.241321   \n",
       "3     -0.337696     -1.104434    -1.259444    -1.728162  ... -0.241321   \n",
       "4     -0.787614      0.147765     0.694918    -0.900186  ... -0.241321   \n",
       "\n",
       "         NW        S        SE      SSE       SSW        SW         W  \\\n",
       "0 -0.256115 -0.27384 -0.289191 -0.27338 -0.246419 -0.264281 -0.275616   \n",
       "1 -0.256115 -0.27384 -0.289191 -0.27338 -0.246419 -0.264281 -0.275616   \n",
       "2 -0.256115 -0.27384 -0.289191 -0.27338 -0.246419 -0.264281 -0.275616   \n",
       "3 -0.256115 -0.27384 -0.289191 -0.27338 -0.246419 -0.264281 -0.275616   \n",
       "4  3.904492 -0.27384 -0.289191 -0.27338 -0.246419 -0.264281 -0.275616   \n",
       "\n",
       "        WNW       WSW  \n",
       "0  3.903542 -0.266300  \n",
       "1 -0.256178  3.755158  \n",
       "2 -0.256178  3.755158  \n",
       "3 -0.256178 -0.266300  \n",
       "4 -0.256178 -0.266300  \n",
       "\n",
       "[5 rows x 128 columns]"
      ]
     },
     "execution_count": 49,
     "metadata": {},
     "output_type": "execute_result"
    }
   ],
   "source": [
    "x.head()"
   ]
  },
  {
   "cell_type": "markdown",
   "metadata": {},
   "source": [
    "# split into train and test"
   ]
  },
  {
   "cell_type": "code",
   "execution_count": 50,
   "metadata": {},
   "outputs": [],
   "source": [
    "x_train, x_test, y_train, y_test = train_test_split(x, y, test_size=0.2, random_state=42)"
   ]
  },
  {
   "cell_type": "markdown",
   "metadata": {},
   "source": [
    "# Model training"
   ]
  },
  {
   "cell_type": "markdown",
   "metadata": {},
   "source": [
    "the first model I will use is $knn$.\n",
    "I want to find the optimal k:"
   ]
  },
  {
   "cell_type": "code",
   "execution_count": 51,
   "metadata": {},
   "outputs": [],
   "source": [
    "#s8=[]\n",
    "#for i in range(1,30):\n",
    "    #k=KNeighborsClassifier(n_neighbors=i)\n",
    "    #k.fit(x_train,y_train)\n",
    "    #pre=k.predict(x_test)\n",
    "    #s8.append((pre==y_test).mean())\n",
    "    \n",
    "    \n",
    "#the code above takes several hours to run, so this is the resurt:\n",
    "s8=[0.7643728682443124, 0.7955624318717255, 0.7945778684201273, 0.8023488870916698, 0.8044938288969373, 0.8070958894475896, 0.8081156158796019, 0.8075881711733887,\n",
    " 0.8104715355673547, 0.8081156158796019, 0.8112451211364675, 0.8092056682724428, 0.8107176764302543, 0.8104715355673547, 0.8126516403530363,\n",
    " 0.8099440908611414, 0.8120890326664087, 0.8100847427827983, 0.8118780547839235, 0.8099440908611414, 0.8122296845880657, 0.8099440908611414,\n",
    " 0.812757129294279, 0.8104012096065263, 0.8123351735293084, 0.8098386019198988, 0.8125813143922079, 0.8105418615281831,0.8123703365097226]"
   ]
  },
  {
   "cell_type": "code",
   "execution_count": 105,
   "metadata": {},
   "outputs": [
    {
     "data": {
      "text/plain": [
       "<matplotlib.lines.Line2D at 0x20715411f48>"
      ]
     },
     "execution_count": 105,
     "metadata": {},
     "output_type": "execute_result"
    },
    {
     "data": {
      "image/png": "[encoded data removed]",
      "text/plain": [
       "<Figure size 432x288 with 1 Axes>"
      ]
     },
     "metadata": {
      "needs_background": "light"
     },
     "output_type": "display_data"
    }
   ],
   "source": [
    "plt.plot(range(1,30),s8,marker='o')\n",
    "plt.yticks(np.arange(0.76,0.83,0.01),np.arange(0.76,0.83,0.01)*100)\n",
    "plt.ylabel('Accuracy percentage',fontsize=13)\n",
    "plt.xlabel('K',fontsize=14)\n",
    "plt.axvline(9,color='green',lw=0.5,ls='--')"
   ]
  },
  {
   "cell_type": "markdown",
   "metadata": {},
   "source": [
    "we can see that from 9 and above it's about the same"
   ]
  },
  {
   "cell_type": "code",
   "execution_count": 114,
   "metadata": {},
   "outputs": [],
   "source": [
    "#lets predict!\n",
    "k=KNeighborsClassifier(n_neighbors=9)\n",
    "k.fit(x_train,y_train)\n",
    "pre=k.predict(x_test)"
   ]
  },
  {
   "cell_type": "code",
   "execution_count": 115,
   "metadata": {},
   "outputs": [],
   "source": [
    "predictKNN=pre"
   ]
  },
  {
   "cell_type": "code",
   "execution_count": null,
   "metadata": {},
   "outputs": [],
   "source": []
  },
  {
   "cell_type": "markdown",
   "metadata": {},
   "source": [
    "the next model I will use is random forest"
   ]
  },
  {
   "cell_type": "code",
   "execution_count": 73,
   "metadata": {},
   "outputs": [],
   "source": [
    "#let's predict!\n",
    "R=RandomForestClassifier(n_estimators=100)\n",
    "R.fit(x_train,y_train)\n",
    "pre=R.predict(x_test)"
   ]
  },
  {
   "cell_type": "code",
   "execution_count": 74,
   "metadata": {},
   "outputs": [],
   "source": [
    "pretictRandomForest=pre"
   ]
  },
  {
   "cell_type": "code",
   "execution_count": null,
   "metadata": {},
   "outputs": [],
   "source": []
  },
  {
   "cell_type": "markdown",
   "metadata": {},
   "source": [
    "try Logistic Regression"
   ]
  },
  {
   "cell_type": "code",
   "execution_count": 156,
   "metadata": {},
   "outputs": [
    {
     "name": "stderr",
     "output_type": "stream",
     "text": [
      "C:\\Users\\nir son\\AppData\\Local\\Continuum\\anaconda3\\lib\\site-packages\\sklearn\\linear_model\\logistic.py:432: FutureWarning: Default solver will be changed to 'lbfgs' in 0.22. Specify a solver to silence this warning.\n",
      "  FutureWarning)\n"
     ]
    }
   ],
   "source": [
    "L=LogisticRegression()\n",
    "L.fit(x_train,y_train)\n",
    "pre=L.predict(x_test)"
   ]
  },
  {
   "cell_type": "code",
   "execution_count": 157,
   "metadata": {},
   "outputs": [],
   "source": [
    "predictLogisticRegression=pre"
   ]
  },
  {
   "cell_type": "code",
   "execution_count": null,
   "metadata": {},
   "outputs": [],
   "source": []
  },
  {
   "cell_type": "markdown",
   "metadata": {},
   "source": [
    "the next model is naive bayes"
   ]
  },
  {
   "cell_type": "code",
   "execution_count": 79,
   "metadata": {},
   "outputs": [],
   "source": [
    "N=GaussianNB()\n",
    "N.fit(x_train,y_train)\n",
    "pre=N.predict(x_test)"
   ]
  },
  {
   "cell_type": "code",
   "execution_count": 81,
   "metadata": {},
   "outputs": [],
   "source": [
    "predictNaiveBayes=pre"
   ]
  },
  {
   "cell_type": "code",
   "execution_count": null,
   "metadata": {},
   "outputs": [],
   "source": []
  },
  {
   "cell_type": "markdown",
   "metadata": {},
   "source": [
    "# Model evaluation"
   ]
  },
  {
   "cell_type": "markdown",
   "metadata": {},
   "source": [
    "let's start by checking model zero.\n",
    "as we can see, it's rains about 22% of the days."
   ]
  },
  {
   "cell_type": "code",
   "execution_count": 113,
   "metadata": {},
   "outputs": [
    {
     "data": {
      "text/plain": [
       "0    0.775819\n",
       "1    0.224181\n",
       "Name: RainTomorrow, dtype: float64"
      ]
     },
     "execution_count": 113,
     "metadata": {},
     "output_type": "execute_result"
    }
   ],
   "source": [
    "df['RainTomorrow'].value_counts()/len(df)"
   ]
  },
  {
   "cell_type": "markdown",
   "metadata": {},
   "source": [
    "therefore, if our model zero is to always guess 'will not rain tomorrow', we will get an accuracy of about 78%"
   ]
  },
  {
   "cell_type": "code",
   "execution_count": 158,
   "metadata": {},
   "outputs": [
    {
     "name": "stdout",
     "output_type": "stream",
     "text": [
      "KNN\n",
      "0.8104715355673547\n",
      "Random Forest\n",
      "0.8546714019480292\n",
      "Naive Bayes\n",
      "0.6469285136608179\n",
      "Logistic Regression\n",
      "0.8444038116670769\n"
     ]
    }
   ],
   "source": [
    "#check the accuracy of our models\n",
    "print('KNN')\n",
    "print((predictKNN==y_test).mean())\n",
    "print('Random Forest')\n",
    "print((pretictRandomForest==y_test).mean())\n",
    "print('Naive Bayes')\n",
    "print((predictNaiveBayes==y_test).mean())\n",
    "print('Logistic Regression')\n",
    "print((predictLogisticRegression==y_test).mean())"
   ]
  },
  {
   "cell_type": "markdown",
   "metadata": {},
   "source": [
    "NaiveBayes have an accruracy worst then model zero, so it's no good for this case.\n",
    "Random Forest and Logistic Regression have an accruracy higher then KNN."
   ]
  },
  {
   "cell_type": "code",
   "execution_count": 159,
   "metadata": {},
   "outputs": [
    {
     "name": "stdout",
     "output_type": "stream",
     "text": [
      "KNN\n",
      "[[21131  4423]\n",
      " [  967  1918]]\n",
      "Random Forest\n",
      "[[21148  3183]\n",
      " [  950  3158]]\n",
      "Naive Bayes\n",
      "[[13883  1826]\n",
      " [ 8215  4515]]\n",
      "Logistic Regression\n",
      "[[20794  3121]\n",
      " [ 1304  3220]]\n"
     ]
    }
   ],
   "source": [
    "#take a look at the confusion matrix for each model\n",
    "\n",
    "print('KNN')\n",
    "print(confusion_matrix(predictKNN,y_test))\n",
    "\n",
    "print('Random Forest')\n",
    "print(confusion_matrix(pretictRandomForest,y_test))\n",
    "\n",
    "print('Naive Bayes')\n",
    "print(confusion_matrix(predictNaiveBayes,y_test))\n",
    "\n",
    "print('Logistic Regression')\n",
    "print(confusion_matrix(predictLogisticRegression,y_test))"
   ]
  },
  {
   "cell_type": "code",
   "execution_count": 160,
   "metadata": {},
   "outputs": [
    {
     "name": "stdout",
     "output_type": "stream",
     "text": [
      "KNN\n",
      "              precision    recall  f1-score   support\n",
      "\n",
      "           0       0.96      0.83      0.89     25554\n",
      "           1       0.30      0.66      0.42      2885\n",
      "\n",
      "    accuracy                           0.81     28439\n",
      "   macro avg       0.63      0.75      0.65     28439\n",
      "weighted avg       0.89      0.81      0.84     28439\n",
      "\n",
      "Random Forest\n",
      "              precision    recall  f1-score   support\n",
      "\n",
      "           0       0.96      0.87      0.91     24331\n",
      "           1       0.50      0.77      0.60      4108\n",
      "\n",
      "    accuracy                           0.85     28439\n",
      "   macro avg       0.73      0.82      0.76     28439\n",
      "weighted avg       0.89      0.85      0.87     28439\n",
      "\n",
      "Naive Bayes\n",
      "              precision    recall  f1-score   support\n",
      "\n",
      "           0       0.63      0.88      0.73     15709\n",
      "           1       0.71      0.35      0.47     12730\n",
      "\n",
      "    accuracy                           0.65     28439\n",
      "   macro avg       0.67      0.62      0.60     28439\n",
      "weighted avg       0.67      0.65      0.62     28439\n",
      "\n",
      "Logistic Regression\n",
      "              precision    recall  f1-score   support\n",
      "\n",
      "           0       0.94      0.87      0.90     23915\n",
      "           1       0.51      0.71      0.59      4524\n",
      "\n",
      "    accuracy                           0.84     28439\n",
      "   macro avg       0.72      0.79      0.75     28439\n",
      "weighted avg       0.87      0.84      0.85     28439\n",
      "\n"
     ]
    }
   ],
   "source": [
    "#take a look at the classification report for each model\n",
    "\n",
    "print('KNN')\n",
    "print(classification_report(predictKNN,y_test))\n",
    "\n",
    "print('Random Forest')\n",
    "print(classification_report(pretictRandomForest,y_test))\n",
    "\n",
    "print('Naive Bayes')\n",
    "print(classification_report(predictNaiveBayes,y_test))\n",
    "\n",
    "print('Logistic Regression')\n",
    "print(classification_report(predictLogisticRegression,y_test))"
   ]
  },
  {
   "cell_type": "markdown",
   "metadata": {},
   "source": [
    "### conclusion: in almost every parameter, Random Forest gives the best results."
   ]
  }
 ],
 "metadata": {
  "kernelspec": {
   "display_name": "Python 3",
   "language": "python",
   "name": "python3"
  },
  "language_info": {
   "codemirror_mode": {
    "name": "ipython",
    "version": 3
   },
   "file_extension": ".py",
   "mimetype": "text/x-python",
   "name": "python",
   "nbconvert_exporter": "python",
   "pygments_lexer": "ipython3",
   "version": "3.7.4"
  }
 },
 "nbformat": 4,
 "nbformat_minor": 2
}
